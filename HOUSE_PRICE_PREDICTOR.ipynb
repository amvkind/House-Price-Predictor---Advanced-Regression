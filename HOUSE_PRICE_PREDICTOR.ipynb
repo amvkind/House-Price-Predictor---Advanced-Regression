{
  "nbformat": 4,
  "nbformat_minor": 0,
  "metadata": {
    "colab": {
      "name": "HOUSE PRICE PREDICTOR.ipynb",
      "provenance": [],
      "collapsed_sections": []
    },
    "kernelspec": {
      "name": "python3",
      "display_name": "Python 3"
    },
    "accelerator": "GPU"
  },
  "cells": [
    {
      "cell_type": "code",
      "metadata": {
        "id": "7eWSqI5sbUOY",
        "colab_type": "code",
        "colab": {}
      },
      "source": [
        "PATH = '/content/drive/My Drive/Colab Notebooks/House Price Predictor /data/'"
      ],
      "execution_count": 0,
      "outputs": []
    },
    {
      "cell_type": "markdown",
      "metadata": {
        "id": "NOrVePKv5fFw",
        "colab_type": "text"
      },
      "source": [
        "**IMPORTING LIBRARIES**"
      ]
    },
    {
      "cell_type": "code",
      "metadata": {
        "id": "JGbBaMrVbwEX",
        "colab_type": "code",
        "outputId": "52d0c47e-e43d-4041-9254-6d6886e36c97",
        "colab": {
          "base_uri": "https://localhost:8080/",
          "height": 88
        }
      },
      "source": [
        "import pandas as pd\n",
        "import numpy as np\n",
        "import matplotlib.pyplot as plt\n",
        "import tensorflow as tf\n",
        "import seaborn as sns\n",
        "\n",
        "from tensorflow.keras.preprocessing.text import one_hot\n",
        "from tensorflow.keras.preprocessing.sequence import pad_sequences\n",
        "from sklearn.preprocessing import MinMaxScaler\n",
        "from sklearn.ensemble import ExtraTreesClassifier\n",
        "\n",
        "from sklearn.linear_model import LinearRegression\n",
        "from sklearn.metrics import mean_squared_error, r2_score\n",
        "from sklearn.feature_selection import SelectKBest\n",
        "from sklearn.feature_selection import chi2\n",
        "\n",
        "from tensorflow import keras\n",
        "from keras.models import Sequential\n",
        "from keras.layers import Dense\n",
        "from keras.layers import Flatten\n",
        "from keras.losses import SparseCategoricalCrossentropy\n",
        "from keras.losses import MeanSquaredError\n",
        "from keras.layers import Conv2D, MaxPool2D\n",
        "\n",
        "VOC_SIZE = 500\n",
        "INPUT_SHAPE = 75"
      ],
      "execution_count": 0,
      "outputs": [
        {
          "output_type": "stream",
          "text": [
            "/usr/local/lib/python3.6/dist-packages/statsmodels/tools/_testing.py:19: FutureWarning: pandas.util.testing is deprecated. Use the functions in the public API at pandas.testing instead.\n",
            "  import pandas.util.testing as tm\n",
            "Using TensorFlow backend.\n"
          ],
          "name": "stderr"
        }
      ]
    },
    {
      "cell_type": "markdown",
      "metadata": {
        "id": "s8J7G8-m6dI1",
        "colab_type": "text"
      },
      "source": [
        "**DATA PREPRATION**"
      ]
    },
    {
      "cell_type": "code",
      "metadata": {
        "id": "HwdoZ1Q0b7CX",
        "colab_type": "code",
        "outputId": "c5ace4c7-8909-46ee-9f14-e32be356356d",
        "colab": {
          "base_uri": "https://localhost:8080/",
          "height": 139
        }
      },
      "source": [
        "df_train = pd.read_csv(PATH+'train.csv')\n",
        "df_test = pd.read_csv(PATH+'test.csv')\n",
        "df_test['SalePrice'] = np.zeros(len(df_test))\n",
        "\n",
        "df = df_train.append(df_test)\n",
        "\n",
        "df['LotFrontage']=df['LotFrontage'].fillna(df['LotFrontage'].mean())\n",
        "\n",
        "df['BsmtCond']=df['BsmtCond'].fillna(df['BsmtCond'].mode()[0])\n",
        "df['BsmtQual']=df['BsmtQual'].fillna(df['BsmtQual'].mode()[0])\n",
        "df['FireplaceQu']=df['FireplaceQu'].fillna(df['FireplaceQu'].mode()[0])\n",
        "df['GarageType']=df['GarageType'].fillna(df['GarageType'].mode()[0])\n",
        "df['GarageFinish']=df['GarageFinish'].fillna(df['GarageFinish'].mode()[0])\n",
        "df['GarageQual']=df['GarageQual'].fillna(df['GarageQual'].mode()[0])\n",
        "df['GarageCond']=df['GarageCond'].fillna(df['GarageCond'].mode()[0])\n",
        "\n",
        "df.drop(['Id', 'Alley', 'PoolQC','Fence','MiscFeature'],axis=1,inplace=True)\n",
        "\n",
        "# df.replace([np.inf, -np.inf], np.nan, inplace=True)\n",
        "df.fillna(0, inplace=True)\n",
        "\n",
        "X = df.iloc[:,:-1] \n",
        "y = np.array(df.iloc[:,-1], dtype='float64')\n",
        "\n",
        "categorical_cols = X.select_dtypes('object').columns.to_list() \n",
        "for i in categorical_cols:\n",
        "  for j in range(len(X)):\n",
        "    X[i].iloc[j] = one_hot(str(X[i].iloc[j]), VOC_SIZE)[0]\n",
        "    \n",
        "scaler = MinMaxScaler((0,1))\n",
        "X = scaler.fit_transform(np.array(X, dtype='float64'))\n",
        "\n",
        "X_train = X[:1400,]\n",
        "y_train = y[:1400,]\n",
        "X_val = X[1400:1460,]\n",
        "y_val = y[1400:1460,]\n",
        "X_test = X[1460:,]\n",
        "y_test = y[1460:,]\n"
      ],
      "execution_count": 0,
      "outputs": [
        {
          "output_type": "stream",
          "text": [
            "/usr/local/lib/python3.6/dist-packages/pandas/core/indexing.py:671: SettingWithCopyWarning: \n",
            "A value is trying to be set on a copy of a slice from a DataFrame\n",
            "\n",
            "See the caveats in the documentation: https://pandas.pydata.org/pandas-docs/stable/user_guide/indexing.html#returning-a-view-versus-a-copy\n",
            "  self._setitem_with_indexer(indexer, value)\n"
          ],
          "name": "stderr"
        },
        {
          "output_type": "execute_result",
          "data": {
            "text/plain": [
              "\"\\nsent_length=81\\nX_train = pad_sequences(X_train,padding='pre',maxlen=sent_length)\\nX_test = pad_sequences(X_test,padding='pre',maxlen=sent_length)\\n\\nX_train = X_train.reshape(len(X_train), 9, 9, 1)\\nX_test = X_test.reshape(len(X_test), 9, 9, 1)\\n\\n\""
            ]
          },
          "metadata": {
            "tags": []
          },
          "execution_count": 3
        }
      ]
    },
    {
      "cell_type": "markdown",
      "metadata": {
        "id": "9kqs7r38wdj_",
        "colab_type": "text"
      },
      "source": [
        "DNN MODEL"
      ]
    },
    {
      "cell_type": "code",
      "metadata": {
        "id": "ntc8iYH-wiRF",
        "colab_type": "code",
        "outputId": "37a81aae-5521-4384-87b7-2a2abcb204ab",
        "colab": {
          "base_uri": "https://localhost:8080/",
          "height": 173
        }
      },
      "source": [
        "dnn_model = Sequential()\n",
        "\n",
        "dnn_model.add(Dense(50, input_shape=(INPUT_SHAPE,))) \n",
        "dnn_model.add(Dense(25, init='he_uniform', activation='relu'))   \n",
        "dnn_model.add(Dense(25, init='he_uniform', activation='relu'))  \n",
        "dnn_model.add(Dense(50, init='he_uniform', activation='relu'))\n",
        "dnn_model.add(Dense(1, init = 'he_uniform')) \n",
        "\n",
        "dnn_model.compile(optimizer='Adamax', loss='mean_squared_error', metrics=['mean_squared_error'])"
      ],
      "execution_count": 0,
      "outputs": [
        {
          "output_type": "stream",
          "text": [
            "/usr/local/lib/python3.6/dist-packages/ipykernel_launcher.py:4: UserWarning: Update your `Dense` call to the Keras 2 API: `Dense(25, activation=\"relu\", kernel_initializer=\"he_uniform\")`\n",
            "  after removing the cwd from sys.path.\n",
            "/usr/local/lib/python3.6/dist-packages/ipykernel_launcher.py:5: UserWarning: Update your `Dense` call to the Keras 2 API: `Dense(25, activation=\"relu\", kernel_initializer=\"he_uniform\")`\n",
            "  \"\"\"\n",
            "/usr/local/lib/python3.6/dist-packages/ipykernel_launcher.py:6: UserWarning: Update your `Dense` call to the Keras 2 API: `Dense(50, activation=\"relu\", kernel_initializer=\"he_uniform\")`\n",
            "  \n",
            "/usr/local/lib/python3.6/dist-packages/ipykernel_launcher.py:7: UserWarning: Update your `Dense` call to the Keras 2 API: `Dense(1, kernel_initializer=\"he_uniform\")`\n",
            "  import sys\n"
          ],
          "name": "stderr"
        }
      ]
    },
    {
      "cell_type": "code",
      "metadata": {
        "id": "IZm-iBSWVlDi",
        "colab_type": "code",
        "colab": {}
      },
      "source": [
        "dnn_model.fit(X_train, y_train, validation_data=(X_val, y_val),batch_size = 10, epochs=500)"
      ],
      "execution_count": 0,
      "outputs": []
    },
    {
      "cell_type": "code",
      "metadata": {
        "id": "8z6QqV65Z-Yc",
        "colab_type": "code",
        "outputId": "57e723bd-4925-4964-de48-5195445aaa3c",
        "colab": {
          "base_uri": "https://localhost:8080/",
          "height": 85
        }
      },
      "source": [
        "i = 19\n",
        "print(f\"Predicted : {dnn_model.predict(X_val)[i][0]} , Actual : {y_val[i]} , Difference : {abs(dnn_model.predict(X_val)[i][0] - y_val[i])}\\n\")\n",
        "\n",
        "val_loss, val_acc = dnn_model.evaluate(X_val, y_val)\n",
        "print(f\"Val Loss : {val_loss}, Val Acc : {val_acc}\")"
      ],
      "execution_count": 0,
      "outputs": [
        {
          "output_type": "stream",
          "text": [
            "Predicted : 216873.15625 , Actual : 223000.0 , Difference : 6126.84375\n",
            "\n",
            "60/60 [==============================] - 0s 81us/step\n",
            "Val Loss : 881830101.3333334, Val Acc : 881830080.0\n"
          ],
          "name": "stdout"
        }
      ]
    },
    {
      "cell_type": "code",
      "metadata": {
        "id": "o5-uqU_lkIjc",
        "colab_type": "code",
        "colab": {}
      },
      "source": [
        "y = dnn_model.predict(X_test)"
      ],
      "execution_count": 0,
      "outputs": []
    },
    {
      "cell_type": "code",
      "metadata": {
        "id": "-OlepoAUhyqz",
        "colab_type": "code",
        "colab": {}
      },
      "source": [
        "submission = pd.DataFrame({ 'Id': [i for i in range(1461,1461 + len(y))], 'SalePrice': [i[0] for i in y] })\n",
        "submission.to_csv(\"sample_submission_REG.csv\", index=False)"
      ],
      "execution_count": 0,
      "outputs": []
    }
  ]
}